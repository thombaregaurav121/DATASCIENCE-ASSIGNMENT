{
 "cells": [
  {
   "cell_type": "markdown",
   "metadata": {},
   "source": [
    "Questions 1:\n",
    "    Given the following jumbled word, OBANWRI guess the correct English word.\n",
    "     Ans:RAINBOW"
   ]
  },
  {
   "cell_type": "markdown",
   "metadata": {},
   "source": [
    "Questions 2:\n",
    "Write a program which prints “LETS UPGRADE”. (Please note that you have to\n",
    "print in ALL CAPS as given)\n",
    "ANS:"
   ]
  },
  {
   "cell_type": "code",
   "execution_count": 13,
   "metadata": {},
   "outputs": [
    {
     "name": "stdout",
     "output_type": "stream",
     "text": [
      "LETS UPGRADE\n"
     ]
    }
   ],
   "source": [
    "print(\"LETS UPGRADE\")"
   ]
  },
  {
   "cell_type": "markdown",
   "metadata": {},
   "source": [
    "Questions 3:\n",
    "Write a program that takes cost price and selling price as input and displays whether the transaction is a\n",
    "Profit or a Loss or Neither.\n",
    "INPUT FORMAT\n",
    "The first line contains the cost price.\n",
    "The second line contains the selling price.\n",
    "OUTPUT FORMAT\n",
    "Print \"Profit\" if the transaction is a profit or \"Loss\" if it is a loss. If it is neither\n",
    "profit nor loss, print \"Neither\". (You must not have quotes in your output)"
   ]
  },
  {
   "cell_type": "code",
   "execution_count": 22,
   "metadata": {},
   "outputs": [
    {
     "name": "stdout",
     "output_type": "stream",
     "text": [
      "85\n",
      "85\n",
      "neither\n"
     ]
    }
   ],
   "source": [
    "x=input() #cost p\n",
    "y=input() #sell p\n",
    "if(x<y):\n",
    "    print(\"profit\")\n",
    "elif(x>y):\n",
    "    print(\"loss\")\n",
    "else:\n",
    "    print(\"neither\")\n"
   ]
  },
  {
   "cell_type": "markdown",
   "metadata": {},
   "source": [
    "Questions 4:\n",
    "Write a program that takes an amount in Indian Rupees as input. You need to find its equivalent\n",
    "in Euro and display it. Assume 1 Euro equals Rs. 80.\n",
    "Please note that you are expected to stick to the given input and output\n",
    "format as in sample test cases. Please don't add any extra lines such as\n",
    "'Enter a number', etc.\n",
    "Your program should take only one number as input and display the output.\n",
    "ANS:"
   ]
  },
  {
   "cell_type": "code",
   "execution_count": 20,
   "metadata": {},
   "outputs": [
    {
     "name": "stdout",
     "output_type": "stream",
     "text": [
      "20\n",
      "1600\n"
     ]
    }
   ],
   "source": [
    "x=int(input())\n",
    "y=x*80\n",
    "print(y)"
   ]
  }
 ],
 "metadata": {
  "kernelspec": {
   "display_name": "Python 3",
   "language": "python",
   "name": "python3"
  },
  "language_info": {
   "codemirror_mode": {
    "name": "ipython",
    "version": 3
   },
   "file_extension": ".py",
   "mimetype": "text/x-python",
   "name": "python",
   "nbconvert_exporter": "python",
   "pygments_lexer": "ipython3",
   "version": "3.8.3"
  }
 },
 "nbformat": 4,
 "nbformat_minor": 4
}
